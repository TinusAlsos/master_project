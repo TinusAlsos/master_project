{
 "cells": [
  {
   "cell_type": "markdown",
   "metadata": {},
   "source": [
    "### Development of post processing"
   ]
  },
  {
   "cell_type": "code",
   "execution_count": 70,
   "metadata": {},
   "outputs": [
    {
     "name": "stdout",
     "output_type": "stream",
     "text": [
      "module_path:  c:\\Users\\tinus\\OneDrive\\Dokumenter\\0 Master\\code\\master_project\n"
     ]
    }
   ],
   "source": [
    "# Import python modules\n",
    "import os\n",
    "import sys\n",
    "import pandas as pd\n",
    "import gurobipy as gp\n",
    "from time import time\n",
    "\n",
    "# Determine the absolute path to the src directory (one level up from notebooks)\n",
    "module_path = os.path.abspath(os.path.join(\"..\", \"\"))\n",
    "if module_path not in sys.path:\n",
    "    sys.path.append(module_path)\n",
    "print(\"module_path: \", module_path)"
   ]
  },
  {
   "cell_type": "code",
   "execution_count": 71,
   "metadata": {},
   "outputs": [
    {
     "data": {
      "text/plain": [
       "'c:\\\\Users\\\\tinus\\\\OneDrive\\\\Dokumenter\\\\0 Master\\\\code\\\\master_project\\\\runs\\\\single_runs'"
      ]
     },
     "execution_count": 71,
     "metadata": {},
     "output_type": "execute_result"
    }
   ],
   "source": [
    "runs_folder = os.path.join(\n",
    "    os.path.dirname(os.path.abspath(os.getcwd())), \"runs\", \"single_runs\"\n",
    ")\n",
    "runs_folder"
   ]
  },
  {
   "cell_type": "code",
   "execution_count": 72,
   "metadata": {},
   "outputs": [],
   "source": [
    "import src.models as models"
   ]
  },
  {
   "cell_type": "code",
   "execution_count": 73,
   "metadata": {},
   "outputs": [
    {
     "name": "stdout",
     "output_type": "stream",
     "text": [
      "Path_or_name: small\n",
      "Configuration loaded from c:\\Users\\tinus\\OneDrive\\Dokumenter\\0 Master\\code\\master_project\\configs\\models\\config_small.yaml\n",
      "{'data_folder_name': 'elec_s_37_ES_PT', 'model_name': 'GTSEP_v0', 'model_id': 'test small', 'MIPGap': 0.01, 'VOLL': '6.35e3', 'CC': 100, 'CO2_price': 85, 'E_limit': inf, 'p_max_new_branch': 3000, 'p_min_new_branch': 100, 'expansion_factor': 2.0, 'MS': 0.1}\n",
      "Set parameter MIPGap to value 0.001\n",
      "Model build time: 31.099037408828735\n",
      "Gurobi Optimizer version 11.0.3 build v11.0.3rc0 (win64 - Windows 11+.0 (26100.2))\n",
      "\n",
      "CPU model: AMD Ryzen 7 5800H with Radeon Graphics, instruction set [SSE2|AVX|AVX2]\n",
      "Thread count: 8 physical cores, 16 logical processors, using up to 16 threads\n",
      "\n",
      "Optimize a model with 332889 rows, 297856 columns and 840964 nonzeros\n",
      "Model fingerprint: 0x2ba9ac17\n",
      "Model has 70080 quadratic constraints\n",
      "Variable types: 297847 continuous, 9 integer (9 binary)\n",
      "Coefficient statistics:\n",
      "  Matrix range     [2e-01, 1e+05]\n",
      "  QMatrix range    [8e-07, 1e+00]\n",
      "  QLMatrix range   [1e+00, 1e+00]\n",
      "  Objective range  [1e-02, 1e+05]\n",
      "  Bounds range     [1e+00, 1e+00]\n",
      "  RHS range        [6e-03, 1e+100]\n",
      "Warning: Model contains large rhs\n",
      "         Consider reformulating model or setting NumericFocus parameter\n",
      "         to avoid numerical issues.\n",
      "Presolve removed 201885 rows and 123425 columns\n",
      "Presolve time: 0.58s\n",
      "Presolved: 131025 rows, 174452 columns, 436463 nonzeros\n",
      "Presolved model has 14 SOS constraint(s)\n",
      "Variable types: 174436 continuous, 16 integer (16 binary)\n",
      "Deterministic concurrent LP optimizer: primal and dual simplex\n",
      "Showing primal log only...\n",
      "\n",
      "\n",
      "Root simplex log...\n",
      "\n",
      "Iteration    Objective       Primal Inf.    Dual Inf.      Time\n",
      "    4163    3.1414937e+11   3.740355e+06   8.280173e+09      5s\n",
      "Concurrent spin time: 0.01s\n",
      "\n",
      "Solved with dual simplex\n",
      "\n",
      "Root simplex log...\n",
      "\n",
      "Iteration    Objective       Primal Inf.    Dual Inf.      Time\n",
      "   79721    1.2373692e+10   0.000000e+00   0.000000e+00      7s\n",
      "\n",
      "Root relaxation: objective 1.237369e+10, 79721 iterations, 4.46 seconds (4.54 work units)\n",
      "\n",
      "    Nodes    |    Current Node    |     Objective Bounds      |     Work\n",
      " Expl Unexpl |  Obj  Depth IntInf | Incumbent    BestBd   Gap | It/Node Time\n",
      "\n",
      "     0     0 1.2374e+10    0    2          - 1.2374e+10      -     -    6s\n",
      "H    0     0                    1.237373e+10 1.2374e+10  0.00%     -    6s\n",
      "\n",
      "Explored 1 nodes (79721 simplex iterations) in 7.06 seconds (7.29 work units)\n",
      "Thread count was 16 (of 16 available processors)\n",
      "\n",
      "Solution count 1: 1.23737e+10 \n",
      "\n",
      "Optimal solution found (tolerance 1.00e-03)\n",
      "Best objective 1.237372723745e+10, best bound 1.237369205694e+10, gap 0.0003%\n",
      "Model run time: 7.276791095733643\n"
     ]
    }
   ],
   "source": [
    "model_config_name = \"small\"\n",
    "model_config = models.load_model_config(model_config_name)\n",
    "print(model_config)\n",
    "\n",
    "model_build_start_time = time()\n",
    "model = models.get_model(model_config)\n",
    "model_build_end_time = time()\n",
    "print(f\"Model build time: {model_build_end_time - model_build_start_time}\")\n",
    "\n",
    "model_run_start_time = time()\n",
    "models.run_model(model)\n",
    "model_run_end_time = time()\n",
    "print(f\"Model run time: {model_run_end_time - model_run_start_time}\")"
   ]
  },
  {
   "cell_type": "markdown",
   "metadata": {},
   "source": [
    "### Analyze run function from here "
   ]
  },
  {
   "cell_type": "code",
   "execution_count": 94,
   "metadata": {},
   "outputs": [],
   "source": [
    "def create_run_id(model_config: dict) -> str:\n",
    "    from datetime import datetime\n",
    "\n",
    "    now = datetime.now()\n",
    "    formatted = now.strftime(\"%b%d:%a:h%H\")\n",
    "    model_name = model_config[\"model_name\"]\n",
    "    model_id = model_config[\"model_id\"]\n",
    "    now = datetime.now()\n",
    "    formatted = now.strftime(\"%b%d_%a_h%H\")\n",
    "    run_id = f\"{model_name}-{model_id}-{formatted}\"\n",
    "    return run_id\n",
    "\n",
    "\n",
    "def save_model(model, model_config):\n",
    "    run_id = create_run_id(model_config)\n",
    "    single_run_folder = os.path.join(runs_folder, run_id)\n",
    "    if not os.path.exists(single_run_folder):\n",
    "        os.makedirs(single_run_folder)\n",
    "    model_save_path = os.path.join(single_run_folder, \"model\" + \".mps\")\n",
    "    solution_save_path = os.path.join(single_run_folder, \"solution\" + \".sol\")\n",
    "    config_dump_save_path = os.path.join(single_run_folder, \"config\" + \".yaml\")\n",
    "    model.write(model_save_path)\n",
    "    model.write(solution_save_path)\n",
    "    import yaml\n",
    "\n",
    "    model_config_dump = model_config.copy()\n",
    "    model_config_dump[\"run_id\"] = run_id\n",
    "\n",
    "    with open(config_dump_save_path, \"w\") as file:\n",
    "        yaml.dump(model_config_dump, file)"
   ]
  },
  {
   "cell_type": "code",
   "execution_count": 95,
   "metadata": {},
   "outputs": [
    {
     "name": "stdout",
     "output_type": "stream",
     "text": [
      "Warning: variable name \"g[ES1 0 CCGT,2013-01-01 00:00:00]\" has a space\n",
      "Warning: Q constraint 0 doesn't have a name\n",
      "Warning: default variable names used to write mps file\n",
      "Warning: default Q constraint names used to write mps file\n",
      "Warning: variable name \"g[ES1 0 CCGT,2013-01-01 00:00:00]\" has a space\n",
      "Warning: default variable names used to write solution file\n"
     ]
    }
   ],
   "source": [
    "save_model(model, model_config)"
   ]
  },
  {
   "cell_type": "code",
   "execution_count": 96,
   "metadata": {},
   "outputs": [
    {
     "name": "stdout",
     "output_type": "stream",
     "text": [
      "Decision variable group names: {'soc', 'g_dis', 'p_b_max', 'x', 'z', 'sh', 'f', 'c', 'p_i_max', 'g', 'g_ch', 'y'}\n"
     ]
    }
   ],
   "source": [
    "base_names = {\n",
    "    var.VarName.split(\"[\")[0] if \"[\" in var.VarName else var.VarName\n",
    "    for var in model.getVars()\n",
    "}\n",
    "print(\"Decision variable group names:\", base_names)"
   ]
  },
  {
   "cell_type": "code",
   "execution_count": null,
   "metadata": {},
   "outputs": [
    {
     "data": {
      "text/plain": [
       "{'data_folder_name': 'elec_s_37_ES_PT',\n",
       " 'model_name': 'GTSEP_v0',\n",
       " 'model_id': 'test small',\n",
       " 'MIPGap': 0.01,\n",
       " 'VOLL': '6.35e3',\n",
       " 'CC': 100,\n",
       " 'CO2_price': 85,\n",
       " 'E_limit': inf,\n",
       " 'p_max_new_branch': 3000,\n",
       " 'p_min_new_branch': 100,\n",
       " 'expansion_factor': 2.0,\n",
       " 'MS': 0.1}"
      ]
     },
     "metadata": {},
     "output_type": "display_data"
    }
   ],
   "source": [
    "model_config"
   ]
  },
  {
   "cell_type": "code",
   "execution_count": 7,
   "metadata": {},
   "outputs": [],
   "source": [
    "import os\n",
    "import gurobipy as gp"
   ]
  },
  {
   "cell_type": "code",
   "execution_count": 6,
   "metadata": {},
   "outputs": [],
   "source": [
    "path = os.path.dirname(os.path.abspath(os.getcwd()))\n",
    "folder_name = \"GTSEP_v0-test small-Feb11_Tue_h09\"\n",
    "folder_path = os.path.join(path, \"runs\", \"single_runs\", folder_name)\n",
    "model_info_path = os.path.join(folder_path, \"model_info\")"
   ]
  },
  {
   "cell_type": "code",
   "execution_count": 10,
   "metadata": {},
   "outputs": [
    {
     "name": "stdout",
     "output_type": "stream",
     "text": [
      "Warning: Empty quadratic constraint section at line 1742902 after QCMATRIX   qc17520\n",
      "Warning: Empty quadratic constraint section at line 1742903 after QCMATRIX   qc17521\n",
      "Warning: Empty quadratic constraint section at line 1742904 after QCMATRIX   qc17522\n",
      "Warning: Empty quadratic constraint section at line 1742905 after QCMATRIX   qc17523\n",
      "Warning: Empty quadratic constraint section at line 1742906 after QCMATRIX   qc17524\n",
      "Warning: Empty quadratic constraint section at line 1742907 after QCMATRIX   qc17525\n",
      "Warning: Empty quadratic constraint section at line 1742908 after QCMATRIX   qc17526\n",
      "Warning: Empty quadratic constraint section at line 1742909 after QCMATRIX   qc17527\n",
      "Warning: Empty quadratic constraint section at line 1742937 after QCMATRIX   qc17537\n",
      "Warning: Empty quadratic constraint section at line 1742938 after QCMATRIX   qc17538\n",
      "Warning: Empty quadratic constraint section at line 1742939 after QCMATRIX   qc17539\n",
      "Warning: Empty quadratic constraint section at line 1742940 after QCMATRIX   qc17540\n",
      "Warning: Empty quadratic constraint section at line 1742941 after QCMATRIX   qc17541\n",
      "Warning: Empty quadratic constraint section at line 1742942 after QCMATRIX   qc17542\n",
      "Warning: Empty quadratic constraint section at line 1742943 after QCMATRIX   qc17543\n",
      "Warning: Empty quadratic constraint section at line 1742944 after QCMATRIX   qc17544\n",
      "Warning: Empty quadratic constraint section at line 1742945 after QCMATRIX   qc17545\n",
      "Warning: Empty quadratic constraint section at line 1742946 after QCMATRIX   qc17546\n",
      "Warning: Empty quadratic constraint section at line 1742947 after QCMATRIX   qc17547\n",
      "Warning: Empty quadratic constraint section at line 1742948 after QCMATRIX   qc17548\n",
      "Warning: Empty quadratic constraint section at line 1742949 after QCMATRIX   qc17549\n",
      "Warning: Empty quadratic constraint section at line 1742950 after QCMATRIX   qc17550\n",
      "Warning: Empty quadratic constraint section at line 1742951 after QCMATRIX   qc17551\n",
      "Warning: Empty quadratic constraint section at line 1742979 after QCMATRIX   qc17561\n",
      "Warning: Empty quadratic constraint section at line 1742980 after QCMATRIX   qc17562\n",
      "Read MPS format model from file c:\\Users\\tinus\\OneDrive\\Dokumenter\\0 Master\\code\\master_project\\runs\\single_runs\\GTSEP_v0-test small-Feb11_Tue_h09\\model_info\\model.mps\n",
      "Reading time = 0.79 seconds\n",
      "GTSEP_v0: 332889 rows, 297856 columns, 840964 nonzeros\n",
      "Read solution from file c:\\Users\\tinus\\OneDrive\\Dokumenter\\0 Master\\code\\master_project\\runs\\single_runs\\GTSEP_v0-test small-Feb11_Tue_h09\\model_info\\solution.sol\n"
     ]
    }
   ],
   "source": [
    "model = gp.read(os.path.join(model_info_path, \"model.mps\"))\n",
    "model.read(os.path.join(model_info_path, \"solution.sol\"))"
   ]
  },
  {
   "cell_type": "code",
   "execution_count": 11,
   "metadata": {},
   "outputs": [
    {
     "name": "stdout",
     "output_type": "stream",
     "text": [
      "Gurobi Optimizer version 11.0.3 build v11.0.3rc0 (win64 - Windows 11+.0 (26100.2))\n",
      "\n",
      "CPU model: AMD Ryzen 7 5800H with Radeon Graphics, instruction set [SSE2|AVX|AVX2]\n",
      "Thread count: 8 physical cores, 16 logical processors, using up to 16 threads\n",
      "\n",
      "Optimize a model with 332889 rows, 297856 columns and 840964 nonzeros\n",
      "Model fingerprint: 0x91c09871\n",
      "Model has 70080 quadratic constraints\n",
      "Variable types: 297847 continuous, 9 integer (9 binary)\n",
      "Coefficient statistics:\n",
      "  Matrix range     [2e-01, 1e+05]\n",
      "  QMatrix range    [8e-07, 1e+00]\n",
      "  QLMatrix range   [1e+00, 1e+00]\n",
      "  Objective range  [1e-02, 1e+05]\n",
      "  Bounds range     [1e+00, 1e+00]\n",
      "  RHS range        [6e-03, 1e+100]\n",
      "Warning: Model contains large rhs\n",
      "         Consider reformulating model or setting NumericFocus parameter\n",
      "         to avoid numerical issues.\n",
      "\n",
      "Loaded user MIP start with objective 1.23737e+10\n",
      "\n",
      "Presolve removed 201885 rows and 123425 columns\n",
      "Presolve time: 0.52s\n",
      "Presolved: 131025 rows, 174452 columns, 436463 nonzeros\n",
      "Presolved model has 14 SOS constraint(s)\n",
      "Variable types: 174436 continuous, 16 integer (16 binary)\n",
      "Deterministic concurrent LP optimizer: primal and dual simplex\n",
      "Showing primal log only...\n",
      "\n",
      "\n",
      "Root simplex log...\n",
      "\n",
      "Iteration    Objective       Primal Inf.    Dual Inf.      Time\n",
      "    5843    3.1426188e+11   2.627769e+06   6.028620e+09      5s\n",
      "Concurrent spin time: 0.01s\n",
      "\n",
      "Solved with dual simplex\n",
      "\n",
      "Root relaxation: interrupted, 79721 iterations, 3.79 seconds (4.50 work units)\n",
      "\n",
      "    Nodes    |    Current Node    |     Objective Bounds      |     Work\n",
      " Expl Unexpl |  Obj  Depth IntInf | Incumbent    BestBd   Gap | It/Node Time\n",
      "\n",
      "     0     0          -    0      1.2374e+10 1.2374e+10  0.00%     -    5s\n",
      "\n",
      "Explored 1 nodes (79721 simplex iterations) in 5.92 seconds (7.16 work units)\n",
      "Thread count was 16 (of 16 available processors)\n",
      "\n",
      "Solution count 1: 1.23737e+10 \n",
      "\n",
      "Optimal solution found (tolerance 1.00e-04)\n",
      "Best objective 1.237372723745e+10, best bound 1.237369205694e+10, gap 0.0003%\n"
     ]
    }
   ],
   "source": [
    "model.optimize()"
   ]
  },
  {
   "cell_type": "code",
   "execution_count": null,
   "metadata": {},
   "outputs": [],
   "source": []
  }
 ],
 "metadata": {
  "kernelspec": {
   "display_name": "project",
   "language": "python",
   "name": "python3"
  },
  "language_info": {
   "codemirror_mode": {
    "name": "ipython",
    "version": 3
   },
   "file_extension": ".py",
   "mimetype": "text/x-python",
   "name": "python",
   "nbconvert_exporter": "python",
   "pygments_lexer": "ipython3",
   "version": "3.12.6"
  }
 },
 "nbformat": 4,
 "nbformat_minor": 2
}
