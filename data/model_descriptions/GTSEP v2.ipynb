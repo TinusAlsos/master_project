{
 "cells": [
  {
   "cell_type": "markdown",
   "metadata": {},
   "source": [
    "# GTSEP v2"
   ]
  },
  {
   "cell_type": "markdown",
   "metadata": {},
   "source": [
    "## Description\n",
    "\n",
    "This model is the same as v2 but with the following changes:\n",
    "\n",
    "- Instead of letting the model choose freely how much to generate between p_min and p_max at all times, I instead want to force the model to generate at a certain capacity $\\in [0,1]$ of p_max during a specificed time_period. I should develop the theory to work for arbitrary time periods, but I will start by using a weekly time period. This means that if a solar panel has a weekly capacity utilization of say 0.50, then it will produce p_max * 0.5 * capacity_factor at each time step during that week. I.e. the utilization cannot be changed continously. There are no ramping constraints between weeks. "
   ]
  },
  {
   "cell_type": "markdown",
   "metadata": {},
   "source": [
    "### Mapping\n",
    "\n",
    "- $week(t): T \\rightarrow W$ maps a time step to its week.\n",
    "- $W = \\{1, \\cdots, floor({\\frac{|T|}{7}})\\}$ is the set of weeks."
   ]
  },
  {
   "cell_type": "markdown",
   "metadata": {},
   "source": [
    "**New Decision Variable:**\n",
    "\n",
    "$p_{i,w}:$ is the power generator $i$ runs at in week $w$."
   ]
  },
  {
   "cell_type": "markdown",
   "metadata": {},
   "source": [
    "3. **a) Generators' power output limits, old generators**\n",
    "\n",
    "$$ 0 \\leq p_{i,w(t)} \\leq P_{i}^{\\max} \\quad \\forall i \\in G^{old}, \\forall t \\in T $$\n",
    "\n",
    "$$ g_{_i,t} = p_{i, w(t)}  cf_{i,t}$$\n",
    "3. **b) Generators' power output limits, new generators**\n",
    "\n",
    "$$ 0 \\leq p_{i,w(t)} \\leq x_{i} p_{i}^{\\max} \\quad \\forall i \\in G^{old}, \\forall t \\in T $$\n",
    "\n",
    "$$ g_{_i,t} = p_{i, w(t)}  cf_{i,t}$$\n",
    "\n",
    "where ${cf}_{i,t}$ is 1 $\\forall t$ if the generator is fossil, but varies if the generator is renewable."
   ]
  }
 ],
 "metadata": {
  "kernelspec": {
   "display_name": "project",
   "language": "python",
   "name": "python3"
  },
  "language_info": {
   "name": "python",
   "version": "undefined.undefined.undefined"
  }
 },
 "nbformat": 4,
 "nbformat_minor": 2
}
