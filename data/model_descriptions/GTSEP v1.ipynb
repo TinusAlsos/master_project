{
 "cells": [
  {
   "cell_type": "markdown",
   "metadata": {},
   "source": [
    "## GTSEP v1"
   ]
  },
  {
   "cell_type": "markdown",
   "metadata": {},
   "source": [
    "### Description\n",
    "Same as v0, except that I let the investments in batteries be unconstrainted."
   ]
  },
  {
   "cell_type": "markdown",
   "metadata": {
    "vscode": {
     "languageId": "plaintext"
    }
   },
   "source": [
    "**New decision variable:**\n",
    "\n",
    "$soc_{s}^{max}$: The energy capacity invested in, for $s \\in S^{new}$\n",
    "\n",
    "**Decision variable removed:**\n",
    "\n",
    "$z_{s}$: Binary variable that indicates if battery $s$ is built or not (only exists for new batteries)"
   ]
  },
  {
   "cell_type": "markdown",
   "metadata": {
    "vscode": {
     "languageId": "plaintext"
    }
   },
   "source": [
    "**New AIC:**\n",
    "\n",
    "$$ AIC = \\sum_{i \\in G^{new}} AIC_{i} p_i^{max} + \\sum_{b \\in B^{new}} AIC_{b} p_b^{max} + \\sum_{s \\in S^{new}} AIC_{s} soc_{s}^{max} $$"
   ]
  },
  {
   "cell_type": "markdown",
   "metadata": {
    "vscode": {
     "languageId": "plaintext"
    }
   },
   "source": [
    "**New parameter to help with modeling:**\n",
    "\n",
    "- $ batt_{hours} = 2:$ Lifetime of battery\n",
    "- $ cdrate = 1:$ charge/discharge rate of battery. i.e. it takes cdrate time as long to charge as it does to discharge"
   ]
  },
  {
   "cell_type": "markdown",
   "metadata": {
    "vscode": {
     "languageId": "plaintext"
    }
   },
   "source": [
    "6. **a) Battery charging limit, old batteries**\n",
    "\n",
    "$$ P_{s}^{ch, \\min} \\leq g_{s,t}^{ch} \\leq P_{s}^{ch, \\max} \\quad \\forall s \\in S^{old}, \\forall t \\in T $$\n",
    "\n",
    "6. **b) Battery charging limit, new batteries**\n",
    "\n",
    "$$ 0 \\leq g_{s,t}^{ch} \\leq \\frac{soc_s^{max}}{batt_{hours}\\cdot {cdrate}} \\quad \\forall s \\in S^{old}, \\forall t \\in T $$\n",
    "\n",
    "7. **a) Battery discharging limit, old batteries**\n",
    "\n",
    "$$ P_{s}^{dis, \\min} \\leq g_{s,t}^{dis} \\leq P_{s}^{dis, \\max} \\quad \\forall s \\in S^{old}, \\forall t \\in T $$\n",
    "\n",
    "7. **b) Battery discharging limit, new batteries**\n",
    "\n",
    "$$ 0 \\leq g_{s,t}^{dis} \\leq \\frac{soc_s^{max}}{batt_{hours}} \\quad \\forall s \\in S^{new}, \\forall t \\in T $$\n",
    "\n",
    "8. **Battery state of charge limits**\n",
    "\n",
    "$$ SOC_{s}^{\\min} \\cdot soc_s^{max} \\leq soc_{s,t} \\leq SOC_{s}^{\\max}\\cdot soc_s^{max} \\quad \\forall s \\in S, \\forall t \\in T $$\n",
    "\n",
    "9. **Battery state of charge dynamics**\n",
    "\n",
    "$$ soc_{s,t} = soc_{s,t-1} + \\eta_{s}^{ch} g_{s,t}^{ch} - \\frac{1}{\\eta_{s}^{dis}} g_{s,t}^{dis} \\quad \\forall s \\in S, \\forall t \\in T - \\{0\\} $$\n",
    "\n",
    "10. **Battery state of charge at time 0**\n",
    "\n",
    "$$ soc_{s,0} = SOC_{s}^{\\min} \\cdot soc_s^{max} \\quad \\forall s \\in S $$\n",
    "\n",
    "I'm not confident about the way I handle the last constraint. The \"correct way\" would be to have $soc_{s,0} = SOC_{s}^{\\min} \\cdot soc_s^{max}$, but this seems costly. Setting it equal to 0 is probablt less expensive computationally, but it forces the model to charge rigt away."
   ]
  }
 ],
 "metadata": {
  "language_info": {
   "name": "python"
  }
 },
 "nbformat": 4,
 "nbformat_minor": 2
}
